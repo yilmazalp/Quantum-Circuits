{
 "cells": [
  {
   "cell_type": "markdown",
   "id": "1b4ed95d-2ba1-4d39-a979-7a02d672f8e4",
   "metadata": {},
   "source": [
    "# Quantum Circuits\n",
    "**Note**: In this notebook, all of the images are taken from the website: https://pennylane.ai/codebook/introduction-to-quantum-computing/quantum-circuits\n",
    "\n",
    "These notes introduce the quantum circuits, including:\n",
    "\n",
    "- Visualizing quantum algorithms\n",
    "- Wires and registers\n",
    "- Quantum gates and operations\n",
    "- Circuit depth\n",
    "- Devices and QNodes\n",
    "\n",
    "We will also implement examples using Python and PennyLane library."
   ]
  },
  {
   "cell_type": "markdown",
   "id": "de9976f3-c31e-4244-80a9-608cfbe97f79",
   "metadata": {},
   "source": [
    "## Visualizing quantum algorithms\n",
    "\n",
    "Understanding qubits and their mathematical representations is one of the most important steps to discuss how quantum computations are expressed. Through the quantum computations, we can manipulate and measure these qubits in a meaningful way. However, we need to find a way to express quantum algorithms and protocols in order to understand these relations and representations without any particular hardware or programming language. We achieve this by **quantum circuits**.\n",
    "\n",
    "Quantum circuits are a way to visually describe the sequence of operations on the qubits through computation. We can think of quantum circuits as a set of instructions that tell what and when to do to the qubits. Performing particular operations in a certain way, we can run different algorithms. \n",
    "\n",
    "![title](Images/quantum-circuits-1.png)"
   ]
  },
  {
   "cell_type": "markdown",
   "id": "c37b8d4e-0406-401f-a689-2b3c777e30c7",
   "metadata": {},
   "source": [
    "## Wires and registers\n",
    "\n",
    "Initially, a circuit consists of a collection of **wires**, which are lines representing a set of qubits. Qubits are placed from up to bottom in the numerical order, traditionally. A group of qubits together is called a **quantum register**. \n",
    "\n",
    "![title](Images/quantum-circuits-wires.png)\n",
    "\n",
    "The qubits must be initialized to some state in the beginning of the computation. If the state is not determined initially, a typical choice is to start all the qubits in the $\\ket{0}$. \n",
    "\n",
    "![title](Images/quantum-circuits-register.png)"
   ]
  },
  {
   "cell_type": "markdown",
   "id": "736c138c-b2e2-4ad7-b6ef-fde6c2e15eb4",
   "metadata": {},
   "source": [
    "## Quantum Gates\n",
    "\n",
    "**Gates** in a quantum circuits are the operations on qubits. Some gates operate on single qubit, while some affect multiple qubits. Quantum circuits are read from left to right.\n",
    "\n",
    "Below diagram indicates three wires, a quantum register consisting of three qubits, and different shapes which denote different quantum gates. Firstly, we apply the triangle gate on the qubits $0$ and $2$. The rectangle gate act on both qubit $0$ and $1$. A circle acts on qubit $2$ followed by a rectangle gate acting on both qubit $1$ and $2$. Lastly, one can see that a pentagon and a circle acts on the qubits $0$ and $1$, respectively. \n",
    "\n",
    "![title](Images/quantum-circuits-gates-1.png)"
   ]
  },
  {
   "cell_type": "markdown",
   "id": "42a88bc6-6ad6-4081-9a07-05ca72a539b3",
   "metadata": {},
   "source": [
    "Quantum operations acting on separate qubits can be applied in parallel. Considering the above diagram, the pentagon gate can be moved to the left at the same time the rectangle acts on the qubits $1$ and $2$. \n",
    "\n",
    "![title](Images/quantum-circuits-gates-2.png)"
   ]
  },
  {
   "cell_type": "markdown",
   "id": "e504f2a4-162b-433d-af4c-0b67955d612c",
   "metadata": {},
   "source": [
    "However, we can realize this process when there is an empty place in the circuit. For instance, we could not move the rectangle in the second layer to the left because the triangle must be placed first, even though the qubit $1$ does not do anything at this time (there is an empty place for the qubit $1$ in this layer). Therefore, we visualize the circuits as a sequence of time layers: \n",
    "\n",
    "![title](Images/quantum-circuits-layers.png)"
   ]
  },
  {
   "cell_type": "markdown",
   "id": "8d7e1f3c-73e9-44d6-9ed8-ffa2ac23ecb2",
   "metadata": {},
   "source": [
    "#### Code example: order of operations\n",
    "\n",
    "Suppose that we have a quantum circuit consisting of Hadamard, CNOT, and rotation gates $R_{x}$ and $R_{y}$. Remind that the gates of $R_{x}$ and $R_{y}$ are defined as rotation matrix: \n",
    "\n",
    "$$ R_{x}(\\theta)= \\begin{pmatrix} cos(\\frac{\\theta}{2}) && -isin(\\frac{\\theta}{2}) \\\\ -sin(\\frac{\\theta}{2}) && cos(\\frac{\\theta}{2}) \\end{pmatrix}$$\n",
    "$$ R_{y}(\\theta)= \\begin{pmatrix} cos(\\frac{\\theta}{2}) &&  -sin(\\frac{\\theta}{2}) \\\\ sin(\\frac{\\theta}{2}) && cos(\\frac{\\theta}{2}) \\end{pmatrix}$$\n",
    "\n",
    "CNOT gate is represented as $4 \\times 4$ matrix acting on $2$-qubits: \n",
    "$$ CNOT = \\begin{pmatrix} 1 && 0 && 0 && 0  \\\\ 0 && 1 && 0 && 0 \\\\ 0 && 0 && 0 && 1 \\\\ 0 && 0 && 1 && 0 \\end{pmatrix}$$\n",
    "\n",
    "We know that Hadamard gate is a $2 \\times 2$ matrix acting on a $1$-qubit defined as follows:\n",
    "$$ H= \\frac{1}{\\sqrt{2}}\\begin{pmatrix} 1 && 1 \\\\ 1 && -1 \\end{pmatrix}$$\n",
    "\n",
    "Let's illustrate our circuit: \n",
    "\n",
    "![title](Images/quantum-circuits-exc-1.png)\n",
    "\n",
    "One can easily see that the $R_{x}$, $R_{y}$, and Hadamard gate (which is denoted as H) acts on single qubit while CNOT gate operates on two qubits. We construct the quantum circuits regarding the sequential layers. More precisely, firstly we set the first gate in the first layer. Then, in the same layer, we place other gates from up to bottom if they exist. After that, we continue other layers respectively.\n",
    "\n",
    "Now, we implement a *my_circuit* function taking two parameters, which are the angles of rotation gates. The argument of *wires* indicates the list of qubits we operate gates on."
   ]
  },
  {
   "cell_type": "code",
   "execution_count": 55,
   "id": "d56e9dc9-62bb-451f-a9b4-42c92149465f",
   "metadata": {},
   "outputs": [],
   "source": [
    "import pennylane as qml\n",
    "\n",
    "def my_circuit(theta, phi):\n",
    "    \n",
    "    qml.CNOT(wires=[0, 1])\n",
    "    qml.RX(theta, wires=2)\n",
    "    qml.Hadamard(wires=0)\n",
    "    qml.CNOT(wires=[2, 0])\n",
    "    qml.RY(phi, wires=1)\n",
    "\n",
    "    # the measurement; we return the probabilities of all possible output states\n",
    "    return qml.probs(wires=[0, 1, 2])"
   ]
  },
  {
   "cell_type": "markdown",
   "id": "84a04804-76a3-4e37-bc15-63f411a64a37",
   "metadata": {},
   "source": [
    "As you have seen, we first apply the CNOT as a first gate in the first layer. In the next line, we implement the gate $R_{x}$, which is placed as second in the first layer. Then, we continue layer by layer and follow the gates from up to bottom in the same layer. "
   ]
  },
  {
   "cell_type": "markdown",
   "id": "56bc1fdd-6a5c-4bae-8c4c-a1bd4d39b297",
   "metadata": {},
   "source": [
    "### Circuit depth\n",
    "\n",
    "Complexity and algorithms are very crucial for efficient code implementations in classical computers. Similarly, in quantum computers, the number and the type of gates are important metrics. Another crucial metric is **circuit depth**, which is defined as the number of time steps to run a quantum circuit. More precisely, circuit depth is the number of layers in a quantum circuit. For example, in our previous examples, the circuit depth was $4$. \n",
    "\n",
    "Considering the circuit gates as lego bricks, the length of the structure built gives the circuit depth. For instance, the below colourful bricks representing quantum gates show that the length of the structure is $6$, which means we build a quantum circuit whose depth is $6$.\n",
    "\n",
    "![title](Images/quantum-circuits-depth.png)"
   ]
  },
  {
   "cell_type": "markdown",
   "id": "47d81589-dfd7-4501-b9fe-441505ff85f8",
   "metadata": {},
   "source": [
    "**Example**: Let us draw a circuit diagram for $4$-qubit circuit (the diagram will have $4$ lines) regarding these instructions: \n",
    "\n",
    "- initialize all the qubits in $\\ket{0}$\n",
    "- a circle gate acting on the qubit $0$\n",
    "- a circle gate acting on the qubit $2$\n",
    "- a triangle gate acting on the qubit $2$\n",
    "- a triangle gate acting on the qubit $3$\n",
    "- a rectangle gate acting on both the $0$ and $1$\n",
    "- a rectangle gate acting on both the $1$ and $2$\n",
    "- a rectangle gate acting on both the $2$ and $3$\n",
    "- measurement of all the qubits\n",
    "\n",
    "Through these rules, we have a circuit diagram as follows: \n",
    "\n",
    "![title](Images/quantum-circuits-example-circuit.png)\n",
    "\n",
    "As easily seen from the diagram, the circuit depth is $4$. Note that we count the layers, not the qubits (wires)."
   ]
  },
  {
   "cell_type": "markdown",
   "id": "0ab5c0f7-ba7b-41de-888c-3ba447e588fd",
   "metadata": {},
   "source": [
    "## Devices and QNodes\n",
    "\n",
    "We constructed circuits, but did not run yet. A quantum function is not alone enough to run and execute a circuit. We will need \n",
    "\n",
    "- a device to run the circuit\n",
    "- QNode, which binds the circuit to the device and execute it\n",
    "\n",
    "We can construct a device using the PennyLane (we import it as *qml*) function `qml.device` with the arguments of device name and the wire (qubits) list:\n",
    "\n",
    "```dev = qml.device('device.name', wires=num_qubits)```\n",
    "\n",
    "Alternatively, we can state wires as a list of qubits(wires) and device name as `default.qubit`: \n",
    "\n",
    "```dev = qml.device('default.qubit', wires=[0,1,2,...])```\n",
    "\n",
    "After having a device, we can construct a *QNode*. It is the main unit of computation in PennyLane. \n",
    "\n",
    "![title](Images/quantum-circuits-QNode.png)\n"
   ]
  },
  {
   "cell_type": "markdown",
   "id": "64d72c76-77e4-494d-9ea3-9d66c2673f2d",
   "metadata": {},
   "source": [
    "We construct QNode implementing the `qml.QNode` function:\n",
    "\n",
    "`my_qnode = qml.QNode(my_circuit, my_device)`\n",
    "\n",
    "Once we create the QNode, actually we call a function which uses the same prameter as the quantum function upon we have built. More precisely, QNode is a **decorator**, which is a function taking another function as an argument and returns a new function."
   ]
  },
  {
   "cell_type": "markdown",
   "id": "5e85569a-ee07-4c55-8a71-587494ee11d9",
   "metadata": {},
   "source": [
    "**Example**: Let consider the previous circuit diagram: \n",
    "\n",
    "![title](Images/quantum-circuits-exc-1.png)\n",
    "\n",
    "We constructed the function `my_circuit`, but did not run and execute the circuit. Through using device and QNode, we will do run and execute it. "
   ]
  },
  {
   "cell_type": "code",
   "execution_count": 106,
   "id": "6615c77b-fc80-4e51-a414-fb44dace155c",
   "metadata": {},
   "outputs": [
    {
     "data": {
      "text/plain": [
       "array([4.93780134e-01, 1.23651067e-03, 4.97090753e-03, 1.24480103e-05,\n",
       "       4.93780134e-01, 1.23651067e-03, 4.97090753e-03, 1.24480103e-05])"
      ]
     },
     "execution_count": 106,
     "metadata": {},
     "output_type": "execute_result"
    }
   ],
   "source": [
    "import pennylane as qml\n",
    "\n",
    "# we have three qubits 0,1,2; thus the wires will be the list [0,1,2]\n",
    "dev = qml.device('default.qubit', wires = [0,1,2])\n",
    "\n",
    "def my_circuit(theta, phi):\n",
    "    \n",
    "    qml.CNOT(wires=[0, 1])\n",
    "    qml.RX(theta, wires=2)\n",
    "    qml.Hadamard(wires=0)\n",
    "    qml.CNOT(wires=[2, 0])\n",
    "    qml.RY(phi, wires=1)\n",
    "\n",
    "    # the measurement; we return the probabilities of all possible output states\n",
    "    return qml.probs(wires=[0, 1, 2])\n",
    "\n",
    "# we create a QNode, binding the function and device\n",
    "my_qnode = qml.QNode(my_circuit, dev)\n",
    "\n",
    "# we set up some values for the input parameters\n",
    "theta, phi = 0.1, 0.2 \n",
    "\n",
    "# we execute the QNode by calling my_qnode, which is created as a function\n",
    "my_qnode(theta, phi)"
   ]
  },
  {
   "cell_type": "markdown",
   "id": "a6658eb9-a5ef-44ad-8929-19a7c015049e",
   "metadata": {},
   "source": [
    "Since we run a circuit with three qubits, we observe $2^{3}=8$ probabilites as a result of measurement."
   ]
  },
  {
   "cell_type": "markdown",
   "id": "88dffe6e-b207-4680-8858-f1e3df7cf54f",
   "metadata": {},
   "source": [
    "**Example**: Suppose we have another circuit diagram: \n",
    "\n",
    "![title](Images/quantum-circuits-exc-2.png)\n"
   ]
  },
  {
   "cell_type": "markdown",
   "id": "c2e74fa0-8a5f-4e16-aa2d-09729258ba9a",
   "metadata": {},
   "source": [
    "Firstly, we will set the rotation gates in the first layer; $R_{x}(\\theta)$, $R_{y}(\\phi)$, $R_{z}(\\omega)$, respectively. After this, we will place two CNOT gates in the second and third layer. The last CNOT will be in the final layer, but note that the control and target bits are placed at the wire $2$ and $0$, respectively.  "
   ]
  },
  {
   "cell_type": "code",
   "execution_count": 108,
   "id": "06bc4a57-3f40-4a8b-bbe9-8e8894628c9a",
   "metadata": {},
   "outputs": [
    {
     "data": {
      "text/plain": [
       "array([9.87560268e-01, 0.00000000e+00, 0.00000000e+00, 2.47302134e-03,\n",
       "       2.48960206e-05, 0.00000000e+00, 0.00000000e+00, 9.94181506e-03])"
      ]
     },
     "execution_count": 108,
     "metadata": {},
     "output_type": "execute_result"
    }
   ],
   "source": [
    "# we set a device with three wires, determining the number of wires and type of device\n",
    "dev = qml.device(\"default.qubit\", wires=3)\n",
    "\n",
    "def my_circuit(theta, phi, omega):\n",
    "\n",
    "    # based on our algorithms, our gates will be constructed as follows\n",
    "    qml.RX(theta, wires=0)\n",
    "    qml.RY(phi, wires=1)\n",
    "    qml.RZ(omega, wires=2)\n",
    "    qml.CNOT(wires=[0, 1])\n",
    "    qml.CNOT(wires=[1, 2])\n",
    "    # control is at 2, target is at 0\n",
    "    qml.CNOT(wires=[2,0])\n",
    "\n",
    "    # the measurement; we return the probabilities of all possible output states\n",
    "    return qml.probs(wires=[0, 1, 2])\n",
    "\n",
    "\n",
    "# we create a QNode, binding the function and device\n",
    "my_qnode = qml.QNode(my_circuit, dev)\n",
    "\n",
    "# we set up some values for the input parameters\n",
    "theta, phi, omega = 0.1, 0.2, 0.3\n",
    "\n",
    "# we execute the QNode by calling my_qnode\n",
    "my_qnode(theta, phi, omega)"
   ]
  },
  {
   "cell_type": "markdown",
   "id": "3a688f4c-3450-488d-a837-7843c4ff105e",
   "metadata": {},
   "source": [
    "Remind that QNode acts as a decorator. That's why, we can use decorator in our example as well. We can apply a decorator to the `my_circuit` to construct a QNode, then run it using the provided input parameters."
   ]
  },
  {
   "cell_type": "code",
   "execution_count": 111,
   "id": "558d88fc-d00c-4d78-b8ac-d44e422d57d1",
   "metadata": {},
   "outputs": [
    {
     "data": {
      "text/plain": [
       "array([9.87560268e-01, 0.00000000e+00, 0.00000000e+00, 2.47302134e-03,\n",
       "       2.48960206e-05, 0.00000000e+00, 0.00000000e+00, 9.94181506e-03])"
      ]
     },
     "execution_count": 111,
     "metadata": {},
     "output_type": "execute_result"
    }
   ],
   "source": [
    "# we set a device with three wires, determining the number of wires and type of device\n",
    "dev = qml.device(\"default.qubit\", wires=3)\n",
    "\n",
    "# apply the decorator to the my-circuit function\n",
    "@qml.qnode(dev)\n",
    "def my_circuit(theta, phi, omega):\n",
    "    qml.RX(theta, wires=0)\n",
    "    qml.RY(phi, wires=1)\n",
    "    qml.RZ(omega, wires=2)\n",
    "    qml.CNOT(wires=[0, 1])\n",
    "    qml.CNOT(wires=[1, 2])\n",
    "    qml.CNOT(wires=[2, 0])\n",
    "\n",
    "    # the measurement; we return the probabilities of all possible output states\n",
    "    return qml.probs(wires=[0, 1, 2])\n",
    "\n",
    "# we set up some values for the input parameters\n",
    "theta, phi, omega = 0.1, 0.2, 0.3\n",
    "\n",
    "# run the QNode with provided input parameters\n",
    "my_circuit(theta, phi, omega)"
   ]
  },
  {
   "cell_type": "markdown",
   "id": "bc7dfca9-b8dc-4dbf-bde7-5edfbd0befd7",
   "metadata": {},
   "source": [
    "We can see that the decorator `@qml.qnode(dev)` constructed QNode and returned a new function `my_circuit` without defining it again. Then, we used this returned function with the three input parameters to run the circuit. "
   ]
  },
  {
   "cell_type": "markdown",
   "id": "8d6f2c63-ccf6-4661-a076-29e3a6055a7a",
   "metadata": {},
   "source": [
    "## Conclusion\n",
    "\n",
    "In this notebook, we introduced the quantum circuits:\n",
    "\n",
    "- The structure of quantum circuits and their fundamental units and concepts such as wires, registers, and circuit depths.\n",
    "- How do we apply quantum gates and operations on qubits in a quantum circuit diagram.\n",
    "- The concepts of devices and QNode to understand how to run and execute a qauntum circuit.\n",
    "- Implementing some examples through PennyLane library and its particular functions.\n",
    "\n",
    "In the next notes, we will explore unitary matrices. "
   ]
  },
  {
   "cell_type": "markdown",
   "id": "83222e7e-a899-4d76-9103-32268090b8f1",
   "metadata": {},
   "source": [
    "## References\n",
    "\n",
    "Introduction to Quantum Computing: Quantum Circuits. PennyLane Codebook. https://pennylane.ai/codebook/introduction-to-quantum-computing/quantum-circuits\n",
    "\n",
    "De Wolf, R. (2019). Quantum computing: Lecture notes. arXiv preprint arXiv:1907.09415.\n",
    "\n",
    "Walter, M., & Ozols, M. (2022). Lectures Notes on Quantum Information Theory. University of Amsterdam, Tech. Rep.\n",
    "\n",
    "Aaronson, S. (2022, May). Introduction to quantum information science II lecture notes.\n",
    "\n",
    "Christandl, M. (2012, January). Quantum information theory.\n"
   ]
  },
  {
   "cell_type": "code",
   "execution_count": null,
   "id": "7e4a60fd-b0b4-493c-ac71-1e89fc8a1bcd",
   "metadata": {},
   "outputs": [],
   "source": []
  }
 ],
 "metadata": {
  "kernelspec": {
   "display_name": "Python [conda env:base] *",
   "language": "python",
   "name": "conda-base-py"
  },
  "language_info": {
   "codemirror_mode": {
    "name": "ipython",
    "version": 3
   },
   "file_extension": ".py",
   "mimetype": "text/x-python",
   "name": "python",
   "nbconvert_exporter": "python",
   "pygments_lexer": "ipython3",
   "version": "3.12.7"
  }
 },
 "nbformat": 4,
 "nbformat_minor": 5
}
